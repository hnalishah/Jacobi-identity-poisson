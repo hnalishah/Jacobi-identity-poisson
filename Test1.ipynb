{
 "cells": [
  {
   "cell_type": "code",
   "execution_count": 1,
   "id": "ecd0b595",
   "metadata": {},
   "outputs": [],
   "source": [
    "from poisson.poisson import PoissonGeometry"
   ]
  },
  {
   "cell_type": "markdown",
   "id": "4c9fd203",
   "metadata": {},
   "source": [
    "# Dimension 3"
   ]
  },
  {
   "cell_type": "code",
   "execution_count": 2,
   "id": "56777265",
   "metadata": {},
   "outputs": [
    {
     "data": {
      "text/plain": [
       "{}"
      ]
     },
     "execution_count": 2,
     "metadata": {},
     "output_type": "execute_result"
    }
   ],
   "source": [
    "pg3=PoissonGeometry(3)\n",
    "P3={(1,2): '(x1**p)*(x2**p)*(a-((a*(x1**p+x2**p)+(c-b)*(x3**p))/(x1**p+x2**p+x3**p)))', \\\n",
    "  (1,3): '(x1**p)*(x3**p)*(b-((b*(x1**p+x3**p)-(a+c)*(x2**p))/(x1**p+x2**p+x3**p)))', \\\n",
    "  (2,3): '(x2**p)*(x3**p)*(c-((c*(x2**p+x3**p)+(a-b)*(x1**p))/(x1**p+x2**p+x3**p)))'}\n",
    "pg3.jacobiator(P3)"
   ]
  },
  {
   "cell_type": "markdown",
   "id": "f2f6c120",
   "metadata": {},
   "source": [
    "# Dimension 4"
   ]
  },
  {
   "cell_type": "code",
   "execution_count": 3,
   "id": "68fb7e1e",
   "metadata": {},
   "outputs": [],
   "source": [
    "pg4=PoissonGeometry(4)"
   ]
  },
  {
   "cell_type": "code",
   "execution_count": 4,
   "id": "6747469b",
   "metadata": {},
   "outputs": [
    {
     "data": {
      "text/plain": [
       "{}"
      ]
     },
     "execution_count": 4,
     "metadata": {},
     "output_type": "execute_result"
    }
   ],
   "source": [
    "P4={(1,2): '(a12-((a12*x1**p + a12*x2**p + a13*x3**p + a14*x4**p - a23*x3**p - a24*x4**p)/(x1**p+x2**p+x3**p+x4**p)))', \\\n",
    "   (1,3): '(a13-((a12*x2**p + a13*x1**p + a13*x3**p + a14*x4**p + a23*x2**p - a34*x4**p)/(x1**p+x2**p+x3**p+x4**p)))', \\\n",
    "   (1,4): '(a14-((a12*x2**p + a13*x3**p + a14*x1**p + a14*x4**p + a24*x2**p + a34*x3**p)/(x1**p+x2**p+x3**p+x4**p)))',\\\n",
    "   (2,3): '(a23-((-a12*x1**p + a13*x1**p + a23*x2**p + a23*x3**p + a24*x4**p - a34*x4**p)/(x1**p+x2**p+x3**p+x4**p)))',\\\n",
    "   (2,4):'(a24-((-a12*x1**p + a14*x1**p + a23*x3**p + a24*x2**p + a24*x4**p + a34*x3**p)/(x1**p+x2**p+x3**p+x4**p)))',\\\n",
    "   (3,4):'(a34-((-a13*x1**p + a14*x1**p - a23*x2**p + a24*x2**p + a34*x3**p + a34*x4**p)/(x1**p+x2**p+x3**p+x4**p)))'}\n",
    "pg4.jacobiator(P4)"
   ]
  },
  {
   "cell_type": "markdown",
   "id": "5573f3f9",
   "metadata": {},
   "source": [
    "# Dimension 5\n",
    "For dimension 5 the calculations were taking too long so I took $x_i^p x_j^p$ to simplify the caluculation. \n",
    "Taking them out does no harm. "
   ]
  },
  {
   "cell_type": "code",
   "execution_count": null,
   "id": "b942ce83",
   "metadata": {},
   "outputs": [],
   "source": [
    "pg5=PoissonGeometry(5)"
   ]
  },
  {
   "cell_type": "code",
   "execution_count": null,
   "id": "37ab3ad5",
   "metadata": {},
   "outputs": [],
   "source": [
    "P5={(1,2): 'a12-((a12*x1**p + a12*x2**p + a13*x3**p + a14*x4**p + a15*x5**p - a23*x3**p - a24*x4**p - a25*x5**p)/(x1**p+x2**p+x3**p+x4**p+x5**p))', \\\n",
    "  (1,3): 'a13-((a12*x2**p + a13*x1**p + a13*x3**p + a14*x4**p + a15*x5**p + a23*x2**p - a34*x4**p - a35*x5**p)/(x1**p+x2**p+x3**p+x4**p+x5**p))', \\\n",
    "  (1,4): 'a14-(( a12*x2**p + a13*x3**p + a14*x1**p + a14*x4**p + a15*x5**p + a24*x2**p + a34*x3**p - a45*x5**p)/(x1**p+x2**p+x3**p+x4**p+x5**p))',\\\n",
    "  (1,5): 'a15-((a12*x2**p + a13*x3**p + a14*x4**p + a15*x1**p + a15*x5**p + a25*x2**p + a35*x3**p + a45*x4**p)/(x1**p+x2**p+x3**p+x4**p+x5**p))',\\\n",
    "   (2,3): 'a23-((-a12*x1**p + a13*x1**p + a23*x2**p + a23*x3**p + a24*x4**p + a25*x5**p - a34*x4**p - a35*x5**p)/(x1**p+x2**p+x3**p+x4**p+x5**p))',\\\n",
    "   (2,4): 'a24-((-a12*x1**p + a14*x1**p + a23*x3**p + a24*x2**p + a24*x4**p + a25*x5**p + a34*x3**p - a45*x5**p)/(x1**p+x2**p+x3**p+x4**p+x5**p))',\\\n",
    "   (2,5): 'a25-((-a12*x1**p + a15*x1**p + a23*x3**p + a24*x4**p + a25*x2**p + a25*x5**p + a35*x3**p + a45*x4**p)/(x1**p+x2**p+x3**p+x4**p+x5**p))',\\\n",
    "   (3,4): 'a34-((-a13*x1**p + a14*x1**p - a23*x2**p + a24*x2**p + a34*x3**p + a34*x4**p + a35*x5**p - a45*x5**p)/(x1**p+x2**p+x3**p+x4**p+x5**p))',\\\n",
    "   (3,5): 'a35-((-a13*x1**p + a15*x1**p - a23*x2**p + a25*x2**p + a34*x4**p + a35*x3**p + a35*x5**p + a45*x4**p)/(x1**p+x2**p+x3**p+x4**p+x5**p))',\\\n",
    "   (4,5): 'a45-((-a14*x1**p + a15*x1**p - a24*x2**p + a25*x2**p - a34*x3**p + a35*x3**p + a45*x4**p + a45*x5**p)/(x1**p+x2**p+x3**p+x4**p+x5**p))'}\n",
    "\n",
    "pg5.jacobiator(P5)"
   ]
  },
  {
   "cell_type": "code",
   "execution_count": null,
   "id": "589c23c5",
   "metadata": {},
   "outputs": [],
   "source": []
  }
 ],
 "metadata": {
  "kernelspec": {
   "display_name": "Python 3 (ipykernel)",
   "language": "python",
   "name": "python3"
  },
  "language_info": {
   "codemirror_mode": {
    "name": "ipython",
    "version": 3
   },
   "file_extension": ".py",
   "mimetype": "text/x-python",
   "name": "python",
   "nbconvert_exporter": "python",
   "pygments_lexer": "ipython3",
   "version": "3.9.13"
  }
 },
 "nbformat": 4,
 "nbformat_minor": 5
}
